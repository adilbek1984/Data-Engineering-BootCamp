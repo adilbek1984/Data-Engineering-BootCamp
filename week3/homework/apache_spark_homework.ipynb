{
 "cells": [
  {
   "cell_type": "code",
   "execution_count": 31,
   "id": "7e8970d7-5fc1-43bc-a4ca-55081ce31f2f",
   "metadata": {},
   "outputs": [],
   "source": [
    "from pyspark.sql import SparkSession\n",
    "from pyspark.sql.functions import col, broadcast\n",
    "from pyspark.sql.types import BooleanType, IntegerType, TimestampType\n",
    "from pyspark.sql import functions as F\n",
    "\n",
    "# Создание Spark-сессии\n",
    "spark = SparkSession.builder \\\n",
    "    .appName(\"Iceberg Data Load\") \\\n",
    "    .getOrCreate()\n",
    "\n",
    "# Загрузка matches.csv\n",
    "matches = spark.read.option(\"header\", \"true\") \\\n",
    "    .csv(\"/home/iceberg/data/matches.csv\") \\\n",
    "    .withColumn(\"is_team_game\", col(\"is_team_game\").cast(BooleanType())) \\\n",
    "    .withColumn(\"completion_date\", col(\"completion_date\").cast(TimestampType()))\n",
    "\n",
    "# Загрузка match_details.csv\n",
    "match_details = spark.read.option(\"header\", \"true\") \\\n",
    "    .csv(\"/home/iceberg/data/match_details.csv\") \\\n",
    "    .withColumn(\"player_total_kills\", col(\"player_total_kills\").cast(IntegerType())) \\\n",
    "    .withColumn(\"player_total_deaths\", col(\"player_total_deaths\").cast(IntegerType()))\n",
    "\n",
    "# Загрузка medals.csv\n",
    "medals = spark.read.option(\"header\", \"true\") \\\n",
    "    .csv(\"/home/iceberg/data/medals.csv\")\n",
    "\n",
    "# Загрузка medals_matches_players.csv\n",
    "medals_matches_players = spark.read.option(\"header\", \"true\") \\\n",
    "    .csv(\"/home/iceberg/data/medals_matches_players.csv\") \\\n",
    "    .withColumn(\"count\", col(\"count\").cast(IntegerType()))\n",
    "\n",
    "# Загрузка maps.csv\n",
    "maps = spark.read.option(\"header\", \"true\") \\\n",
    "    .csv(\"/home/iceberg/data/maps.csv\")"
   ]
  },
  {
   "cell_type": "code",
   "execution_count": 32,
   "id": "7bc9d81c-21f0-41b8-8f15-d5e4ae44e40e",
   "metadata": {},
   "outputs": [
    {
     "name": "stdout",
     "output_type": "stream",
     "text": [
      "root\n",
      " |-- match_id: string (nullable = true)\n",
      " |-- mapid: string (nullable = true)\n",
      " |-- is_team_game: boolean (nullable = true)\n",
      " |-- playlist_id: string (nullable = true)\n",
      " |-- game_variant_id: string (nullable = true)\n",
      " |-- is_match_over: string (nullable = true)\n",
      " |-- completion_date: timestamp (nullable = true)\n",
      " |-- match_duration: string (nullable = true)\n",
      " |-- game_mode: string (nullable = true)\n",
      " |-- map_variant_id: string (nullable = true)\n",
      "\n"
     ]
    }
   ],
   "source": [
    "matches.printSchema()"
   ]
  },
  {
   "cell_type": "code",
   "execution_count": 33,
   "id": "b3288048-3a46-488a-bf79-9b761174cc5d",
   "metadata": {},
   "outputs": [
    {
     "name": "stdout",
     "output_type": "stream",
     "text": [
      "root\n",
      " |-- match_id: string (nullable = true)\n",
      " |-- player_gamertag: string (nullable = true)\n",
      " |-- previous_spartan_rank: string (nullable = true)\n",
      " |-- spartan_rank: string (nullable = true)\n",
      " |-- previous_total_xp: string (nullable = true)\n",
      " |-- total_xp: string (nullable = true)\n",
      " |-- previous_csr_tier: string (nullable = true)\n",
      " |-- previous_csr_designation: string (nullable = true)\n",
      " |-- previous_csr: string (nullable = true)\n",
      " |-- previous_csr_percent_to_next_tier: string (nullable = true)\n",
      " |-- previous_csr_rank: string (nullable = true)\n",
      " |-- current_csr_tier: string (nullable = true)\n",
      " |-- current_csr_designation: string (nullable = true)\n",
      " |-- current_csr: string (nullable = true)\n",
      " |-- current_csr_percent_to_next_tier: string (nullable = true)\n",
      " |-- current_csr_rank: string (nullable = true)\n",
      " |-- player_rank_on_team: string (nullable = true)\n",
      " |-- player_finished: string (nullable = true)\n",
      " |-- player_average_life: string (nullable = true)\n",
      " |-- player_total_kills: integer (nullable = true)\n",
      " |-- player_total_headshots: string (nullable = true)\n",
      " |-- player_total_weapon_damage: string (nullable = true)\n",
      " |-- player_total_shots_landed: string (nullable = true)\n",
      " |-- player_total_melee_kills: string (nullable = true)\n",
      " |-- player_total_melee_damage: string (nullable = true)\n",
      " |-- player_total_assassinations: string (nullable = true)\n",
      " |-- player_total_ground_pound_kills: string (nullable = true)\n",
      " |-- player_total_shoulder_bash_kills: string (nullable = true)\n",
      " |-- player_total_grenade_damage: string (nullable = true)\n",
      " |-- player_total_power_weapon_damage: string (nullable = true)\n",
      " |-- player_total_power_weapon_grabs: string (nullable = true)\n",
      " |-- player_total_deaths: integer (nullable = true)\n",
      " |-- player_total_assists: string (nullable = true)\n",
      " |-- player_total_grenade_kills: string (nullable = true)\n",
      " |-- did_win: string (nullable = true)\n",
      " |-- team_id: string (nullable = true)\n",
      "\n"
     ]
    }
   ],
   "source": [
    "match_details.printSchema()"
   ]
  },
  {
   "cell_type": "code",
   "execution_count": 34,
   "id": "75c2a44e-3956-4e23-904f-412124367728",
   "metadata": {},
   "outputs": [
    {
     "name": "stdout",
     "output_type": "stream",
     "text": [
      "root\n",
      " |-- medal_id: string (nullable = true)\n",
      " |-- sprite_uri: string (nullable = true)\n",
      " |-- sprite_left: string (nullable = true)\n",
      " |-- sprite_top: string (nullable = true)\n",
      " |-- sprite_sheet_width: string (nullable = true)\n",
      " |-- sprite_sheet_height: string (nullable = true)\n",
      " |-- sprite_width: string (nullable = true)\n",
      " |-- sprite_height: string (nullable = true)\n",
      " |-- classification: string (nullable = true)\n",
      " |-- description: string (nullable = true)\n",
      " |-- name: string (nullable = true)\n",
      " |-- difficulty: string (nullable = true)\n",
      "\n"
     ]
    }
   ],
   "source": [
    "medals.printSchema()"
   ]
  },
  {
   "cell_type": "code",
   "execution_count": 35,
   "id": "d9336e68-8905-48a8-a333-d49a904ecd68",
   "metadata": {},
   "outputs": [
    {
     "name": "stderr",
     "output_type": "stream",
     "text": [
      "                                                                                \r"
     ]
    }
   ],
   "source": [
    "# creating a table bootcamp.matches\n",
    "matchesDDL = \"\"\"\n",
    "CREATE TABLE IF NOT EXISTS bootcamp.matches (\n",
    "     match_id STRING,\n",
    "     mapid STRING,\n",
    "     is_team_game BOOLEAN,\n",
    "     playlist_id STRING,\n",
    "     completion_date TIMESTAMP\n",
    " )\n",
    " USING iceberg\n",
    " PARTITIONED BY (bucket(16, match_id));\n",
    " \"\"\"\n",
    "spark.sql(matchesDDL)\n",
    "\n",
    "#saving data from a dataframe to a table\n",
    "matches.select(\n",
    "    F.col(\"match_id\"), F.col(\"mapid\"), F.col(\"is_team_game\"), F.col(\"playlist_id\"), F.col(\"completion_date\")\n",
    ").write \\\n",
    "    .mode(\"append\") \\\n",
    "    .bucketBy(16, \"match_id\") \\\n",
    "    .saveAsTable(\"bootcamp.matches\")\n",
    "\n",
    "# creating a table bootcamp.match_details\n",
    "matchDetailsDDL = \"\"\"\n",
    "CREATE TABLE IF NOT EXISTS bootcamp.match_details (\n",
    "     match_id STRING,\n",
    "     player_gamertag STRING,\n",
    "     player_total_kills INT,\n",
    "     player_total_deaths INT\n",
    " )\n",
    " USING iceberg\n",
    " PARTITIONED BY (bucket(16, match_id));\n",
    " \"\"\"\n",
    "spark.sql(matchDetailsDDL)\n",
    "\n",
    "#saving data from a dataframe to a table\n",
    "match_details.select(\n",
    "     F.col(\"match_id\"), F.col(\"player_gamertag\"), F.col(\"player_total_kills\"), F.col(\"player_total_deaths\")\n",
    ").write \\\n",
    "    .mode(\"append\") \\\n",
    "    .bucketBy(16, \"match_id\") \\\n",
    "    .saveAsTable(\"bootcamp.match_details\")\n",
    "\n",
    "# creating a table bootcamp.medals\n",
    "medalsDDL = \"\"\"\n",
    "CREATE TABLE IF NOT EXISTS bootcamp.medals (\n",
    "     medal_id STRING,\n",
    "     classification STRING,\n",
    "     name STRING\n",
    " )\n",
    " USING iceberg;\n",
    " \"\"\"\n",
    "spark.sql(medalsDDL)\n",
    "\n",
    "#saving data from a dataframe to a table\n",
    "medals.select(\n",
    "    F.col(\"medal_id\"), F.col(\"classification\"), F.col(\"name\")\n",
    ").write \\\n",
    "    .mode(\"append\") \\\n",
    "    .saveAsTable(\"bootcamp.medals\")\n",
    "\n",
    "# creating a table bootcamp.medals_matches_players\n",
    "medals_matches_playersDDL = \"\"\"\n",
    "CREATE TABLE IF NOT EXISTS bootcamp.medals_matches_players (\n",
    "     match_id STRING,\n",
    "     player_gamertag STRING,\n",
    "     medal_id STRING,\n",
    "     count INTEGER\n",
    " )\n",
    " USING iceberg\n",
    " PARTITIONED BY (bucket(16, match_id)); \n",
    " \"\"\"\n",
    "spark.sql(medals_matches_playersDDL)\n",
    "\n",
    "#saving data from a dataframe to a table\n",
    "medals_matches_players.select(\n",
    "    F.col(\"match_id\"), F.col(\"player_gamertag\"), F.col(\"medal_id\"), F.col(\"count\")\n",
    ").write \\\n",
    "    .mode(\"append\") \\\n",
    "    .bucketBy(16, \"match_id\") \\\n",
    "    .saveAsTable(\"bootcamp.medals_matches_players\")\n",
    "\n",
    "# creating a table bootcamp.maps\n",
    "mapsDDL = \"\"\"\n",
    "CREATE TABLE IF NOT EXISTS bootcamp.maps (\n",
    "     mapid STRING,\n",
    "     name STRING\n",
    " )\n",
    " USING iceberg;\n",
    " \"\"\"\n",
    "spark.sql(mapsDDL)\n",
    "\n",
    "#saving data from a dataframe to a table\n",
    "maps.select(\n",
    "    \"mapid\", \"name\"\n",
    ").write.mode(\"append\").saveAsTable(\"bootcamp.maps\")"
   ]
  },
  {
   "cell_type": "code",
   "execution_count": 36,
   "id": "8b4bf2ec-05fb-4643-b0a1-739abe59d847",
   "metadata": {},
   "outputs": [
    {
     "name": "stdout",
     "output_type": "stream",
     "text": [
      "+--------------------+--------------------+------------+--------------------+-------------------+\n",
      "|            match_id|               mapid|is_team_game|         playlist_id|    completion_date|\n",
      "+--------------------+--------------------+------------+--------------------+-------------------+\n",
      "|f44c9997-eb6f-4d6...|ce1dc2de-f206-11e...|        true|0504ca3c-de41-48f...|2016-02-28 00:00:00|\n",
      "|f0f2daf2-52f3-4ff...|cbcea2c0-f206-11e...|        NULL|2323b76a-db98-4e0...|2016-02-04 00:00:00|\n",
      "|8aec419e-2bfa-4fc...|c7edbf0f-f206-11e...|        true|f72e0ef0-7c4a-430...|2016-01-07 00:00:00|\n",
      "|c6f24b65-bb73-489...|cebd854f-f206-11e...|        NULL|c98949ae-60a8-43d...|2016-01-26 00:00:00|\n",
      "|a868eb4e-8b58-4e6...|c7805740-f206-11e...|        true|f72e0ef0-7c4a-430...|2016-02-02 00:00:00|\n",
      "|a3c79d21-291d-401...|cdb934b0-f206-11e...|        NULL|c98949ae-60a8-43d...|2016-01-26 00:00:00|\n",
      "|341ede74-f260-450...|c7edbf0f-f206-11e...|        NULL|f72e0ef0-7c4a-430...|2016-01-26 00:00:00|\n",
      "|df9f097f-a074-4ec...|c96ff240-f206-11e...|        true|b50c4dc2-6c86-4d7...|2016-02-28 00:00:00|\n",
      "|39c14bb7-2a3c-44c...|cd844200-f206-11e...|        NULL|c98949ae-60a8-43d...|2016-01-25 00:00:00|\n",
      "|ece43f80-f229-44c...|caacb800-f206-11e...|        true|2323b76a-db98-4e0...|2016-04-05 00:00:00|\n",
      "|071c914f-7d7d-4d7...|cd844200-f206-11e...|        true|bc0f8ad6-31e6-4a1...|2015-12-27 00:00:00|\n",
      "|f143a826-fad7-476...|c7edbf0f-f206-11e...|        NULL|f72e0ef0-7c4a-430...|2016-01-26 00:00:00|\n",
      "|50594bb1-47e2-4d2...|ca737f8f-f206-11e...|        NULL|2323b76a-db98-4e0...|2016-01-26 00:00:00|\n",
      "|321f2079-fea5-413...|5e130537-2275-40b...|        true|b50c4dc2-6c86-4d7...|2016-04-10 00:00:00|\n",
      "|8f421c10-031e-46a...|c7edbf0f-f206-11e...|        true|f72e0ef0-7c4a-430...|2015-12-23 00:00:00|\n",
      "|aa9a0fd5-4f2c-483...|caacb800-f206-11e...|        NULL|2323b76a-db98-4e0...|2016-01-24 00:00:00|\n",
      "|fb44f196-eab4-453...|cc040aa1-f206-11e...|        NULL|2323b76a-db98-4e0...|2016-01-24 00:00:00|\n",
      "|8c878eac-908e-49e...|c7edbf0f-f206-11e...|        NULL|f72e0ef0-7c4a-430...|2016-01-23 00:00:00|\n",
      "|34d838e6-2411-4d7...|c7edbf0f-f206-11e...|        NULL|f72e0ef0-7c4a-430...|2016-01-22 00:00:00|\n",
      "|b76c333b-8391-44f...|c7edbf0f-f206-11e...|        true|f72e0ef0-7c4a-430...|2016-02-08 00:00:00|\n",
      "+--------------------+--------------------+------------+--------------------+-------------------+\n",
      "only showing top 20 rows\n",
      "\n"
     ]
    }
   ],
   "source": [
    "spark.sql(\"\"\"\n",
    "    SELECT * FROM bootcamp.matches\n",
    "        \n",
    "\"\"\").show()"
   ]
  },
  {
   "cell_type": "code",
   "execution_count": 37,
   "id": "327a9d6d-37fe-48ab-a153-2fdbf2196c82",
   "metadata": {},
   "outputs": [
    {
     "name": "stdout",
     "output_type": "stream",
     "text": [
      "+--------------------+---------------+------------------+-------------------+\n",
      "|            match_id|player_gamertag|player_total_kills|player_total_deaths|\n",
      "+--------------------+---------------+------------------+-------------------+\n",
      "|f8852913-2ccf-46f...|    OneWingKing|                 7|                  6|\n",
      "|155cfd23-4f97-4f1...|   BigChubSmith|                15|                 11|\n",
      "|155cfd23-4f97-4f1...|  JakeWilson801|                18|                  9|\n",
      "|155cfd23-4f97-4f1...|      taterbase|                 1|                 12|\n",
      "|155cfd23-4f97-4f1...| BeyondHumanx39|                13|                 14|\n",
      "|155cfd23-4f97-4f1...|   Twinsnakes05|                16|                 11|\n",
      "|155cfd23-4f97-4f1...|  Maverick62011|                 9|                 14|\n",
      "|155cfd23-4f97-4f1...|       EcZachly|                16|                 16|\n",
      "|155cfd23-4f97-4f1...|      WhiteSpic|                10|                 12|\n",
      "|b8d81721-befb-427...|  JakeWilson801|                16|                  9|\n",
      "|b8d81721-befb-427...|      taterbase|                 3|                 13|\n",
      "|b8d81721-befb-427...|       EcZachly|                19|                 14|\n",
      "|b8d81721-befb-427...|     cLaPPeD xo|                11|                 15|\n",
      "|b8d81721-befb-427...|        Nawsked|                12|                 14|\n",
      "|b8d81721-befb-427...|        iVaughn|                14|                 12|\n",
      "|b8d81721-befb-427...|     Roy Dossey|                13|                 11|\n",
      "|b8d81721-befb-427...|     Confustion|                11|                 12|\n",
      "|c0c3daed-ad92-48e...|        SnipedI|                 6|                  6|\n",
      "|c0c3daed-ad92-48e...|       Clappage|                 9|                  4|\n",
      "|c0c3daed-ad92-48e...|       EcZachly|                 8|                  5|\n",
      "+--------------------+---------------+------------------+-------------------+\n",
      "only showing top 20 rows\n",
      "\n"
     ]
    }
   ],
   "source": [
    "spark.sql(\"\"\"\n",
    "    SELECT * FROM bootcamp.match_details\n",
    "        \n",
    "\"\"\").show()"
   ]
  },
  {
   "cell_type": "code",
   "execution_count": 38,
   "id": "6a39e301-659c-4bc3-967f-232bdb69ec12",
   "metadata": {},
   "outputs": [
    {
     "name": "stdout",
     "output_type": "stream",
     "text": [
      "+----------+-----------------+--------------+\n",
      "|  medal_id|   classification|          name|\n",
      "+----------+-----------------+--------------+\n",
      "|2315448068|             NULL|          NULL|\n",
      "|3565441934|             NULL|          NULL|\n",
      "|4162659350|         Breakout| Buzzer Beater|\n",
      "|1573153198|         Breakout|    Vanquisher|\n",
      "| 298813630|            Style|Spartan Charge|\n",
      "|3824002610|         Vehicles|  Ghost Assist|\n",
      "|3324603383|          Warzone|    Grunt Kill|\n",
      "| 979431049|         Breakout|       Bifecta|\n",
      "|3098362934|WeaponProficiency|  Perfect Kill|\n",
      "|2435743433|          Warzone|  Base Defense|\n",
      "|2430242797|     KillingSpree| Killing Spree|\n",
      "|1427531503|            Style| Team Takedown|\n",
      "|2359847435|         Breakout|    Extinction|\n",
      "|1691836029|            Style|   Hard Target|\n",
      "|2766284219|            Style|     Quickdraw|\n",
      "|3354395650|      Strongholds| Capture Spree|\n",
      "|2564994165|WeaponProficiency|Big Gun Runner|\n",
      "|2896365521|            Style| Team Takedown|\n",
      "|3786961025|            Style|      Fastball|\n",
      "| 243900335|WeaponProficiency|  Shotgun Kill|\n",
      "+----------+-----------------+--------------+\n",
      "only showing top 20 rows\n",
      "\n"
     ]
    }
   ],
   "source": [
    "spark.sql(\"\"\"\n",
    "    SELECT * FROM bootcamp.medals\n",
    "        \n",
    "\"\"\").show()"
   ]
  },
  {
   "cell_type": "code",
   "execution_count": 41,
   "id": "ebb175ba-b455-45e4-9762-672b6bca3fe3",
   "metadata": {},
   "outputs": [
    {
     "name": "stdout",
     "output_type": "stream",
     "text": [
      "+--------------------+---------------+----------+-----+\n",
      "|            match_id|player_gamertag|  medal_id|count|\n",
      "+--------------------+---------------+----------+-----+\n",
      "|27d7c16b-b780-4f8...|       EcZachly| 824733727|    1|\n",
      "|27d7c16b-b780-4f8...|       EcZachly|3261908037|    5|\n",
      "|27d7c16b-b780-4f8...|       EcZachly|2078758684|    1|\n",
      "|27d7c16b-b780-4f8...|       EcZachly|1573153198|    1|\n",
      "|27d7c16b-b780-4f8...|       EcZachly|2782465081|    1|\n",
      "|27d7c16b-b780-4f8...|       EcZachly|2287626681|    1|\n",
      "|e39c1eac-a39b-4e0...|       EcZachly| 250435527|    1|\n",
      "|e39c1eac-a39b-4e0...|       EcZachly|3261908037|    2|\n",
      "|e39c1eac-a39b-4e0...|       EcZachly|3400287617|    1|\n",
      "|6128f58a-e42e-472...|       EcZachly|3261908037|    8|\n",
      "|6128f58a-e42e-472...|       EcZachly|2078758684|    2|\n",
      "|c2856e2e-d674-409...|       EcZachly|3261908037|   13|\n",
      "|c2856e2e-d674-409...|       EcZachly|3001183151|    1|\n",
      "|c2856e2e-d674-409...|       EcZachly|3400287617|    5|\n",
      "|c2856e2e-d674-409...|       EcZachly|2838259753|    6|\n",
      "|c2856e2e-d674-409...|       EcZachly|2287626681|    1|\n",
      "|c2856e2e-d674-409...|       EcZachly|2078758684|    2|\n",
      "|c2856e2e-d674-409...|       EcZachly|2430242797|    2|\n",
      "|c2856e2e-d674-409...|       EcZachly| 466059351|    1|\n",
      "|c2856e2e-d674-409...|       EcZachly|3972445431|    1|\n",
      "+--------------------+---------------+----------+-----+\n",
      "only showing top 20 rows\n",
      "\n"
     ]
    }
   ],
   "source": [
    "spark.sql(\"\"\"\n",
    "    SELECT * FROM bootcamp.medals_matches_players\n",
    "        \n",
    "\"\"\").show()"
   ]
  },
  {
   "cell_type": "code",
   "execution_count": 42,
   "id": "3a5a0e2a-ac05-476b-af25-9e966bb33e49",
   "metadata": {},
   "outputs": [
    {
     "name": "stdout",
     "output_type": "stream",
     "text": [
      "+--------------------+-------------------+\n",
      "|               mapid|               name|\n",
      "+--------------------+-------------------+\n",
      "|c93d708f-f206-11e...|              Urban|\n",
      "|cb251c51-f206-11e...|     Raid on Apex 7|\n",
      "|c854e54f-f206-11e...|March on Stormbreak|\n",
      "|c8d69870-f206-11e...| Escape from A.R.C.|\n",
      "|73ed1fd0-45e5-4bb...|             Osiris|\n",
      "|96c3e3dd-7703-408...|          Blue Team|\n",
      "|1c4f8e19-b046-4f7...|            Glassed|\n",
      "|825065cf-df57-42e...|        Unconfirmed|\n",
      "|9a188f67-1664-4d7...|           Alliance|\n",
      "|2702ea83-2c3e-4fd...|   Before the Storm|\n",
      "|82f8471c-a2ef-408...|            Genesis|\n",
      "|fcd7caa4-37c9-436...|       The Breaking|\n",
      "|7dc80b62-dd39-41d...|          Guardians|\n",
      "|db9f76c4-6f9a-4c1...|   Meridian Station|\n",
      "|b486c8f6-0b00-4a4...|         Evacuation|\n",
      "|37c717b8-7ae8-4be...|            Reunion|\n",
      "|72c98d4a-4ee4-40d...|Sword of Sanghelios|\n",
      "|f352eafd-d307-434...|        Enemy Lines|\n",
      "|8d72dd82-3afb-409...|  Battle of Sunaion|\n",
      "|c822b1c0-f206-11e...|             Summit|\n",
      "+--------------------+-------------------+\n",
      "only showing top 20 rows\n",
      "\n"
     ]
    }
   ],
   "source": [
    "spark.sql(\"\"\"\n",
    "    SELECT * FROM bootcamp.maps\n",
    "        \n",
    "\"\"\").show()"
   ]
  },
  {
   "cell_type": "code",
   "execution_count": 23,
   "id": "65a2941b-b3f4-4224-9f8b-7526215a899b",
   "metadata": {},
   "outputs": [],
   "source": [
    "# Register DataFrameы as a temporary view\n",
    "# matches.createOrReplaceTempView(\"matches\")\n",
    "# match_details.createOrReplaceTempView(\"match_details\")\n",
    "# medals_matches_players.createOrReplaceTempView(\"medals_matches_players\")\n",
    "# medals.createOrReplaceTempView(\"medals\")\n",
    "# maps.createOrReplaceTempView(\"maps\")"
   ]
  },
  {
   "cell_type": "code",
   "execution_count": 43,
   "id": "4afa544e-3e6c-4bb9-979f-0f8e8dce840a",
   "metadata": {},
   "outputs": [
    {
     "name": "stderr",
     "output_type": "stream",
     "text": [
      "[Stage 81:=============================>                            (4 + 4) / 8]\r"
     ]
    },
    {
     "name": "stdout",
     "output_type": "stream",
     "text": [
      "+--------------------+---------------+------------------+-------------------+--------------------+--------------------+-------------------+----------+-----------+\n",
      "|            match_id|player_gamertag|player_total_kills|player_total_deaths|               mapid|         playlist_id|    completion_date|  medal_id|medal_count|\n",
      "+--------------------+---------------+------------------+-------------------+--------------------+--------------------+-------------------+----------+-----------+\n",
      "|0001a1c4-83dc-4f4...|    ILLICIT 117|                23|                 28|c7805740-f206-11e...|780cc101-005c-4fc...|2016-01-06 00:00:00|3565443938|          4|\n",
      "|0001a1c4-83dc-4f4...|    ILLICIT 117|                23|                 28|c7805740-f206-11e...|780cc101-005c-4fc...|2016-01-06 00:00:00|3261908037|          8|\n",
      "|0001a1c4-83dc-4f4...|    ILLICIT 117|                23|                 28|c7805740-f206-11e...|780cc101-005c-4fc...|2016-01-06 00:00:00| 824733727|          1|\n",
      "|0001a1c4-83dc-4f4...|    ILLICIT 117|                23|                 28|c7805740-f206-11e...|780cc101-005c-4fc...|2016-01-06 00:00:00| 298813630|          2|\n",
      "|0001a1c4-83dc-4f4...|    ILLICIT 117|                23|                 28|c7805740-f206-11e...|780cc101-005c-4fc...|2016-01-06 00:00:00|1351381581|          3|\n",
      "|0001a1c4-83dc-4f4...|    ILLICIT 117|                23|                 28|c7805740-f206-11e...|780cc101-005c-4fc...|2016-01-06 00:00:00|2916014239|          5|\n",
      "|0001a1c4-83dc-4f4...|    ILLICIT 117|                23|                 28|c7805740-f206-11e...|780cc101-005c-4fc...|2016-01-06 00:00:00|1326375333|          1|\n",
      "|0001a1c4-83dc-4f4...|    ILLICIT 117|                23|                 28|c7805740-f206-11e...|780cc101-005c-4fc...|2016-01-06 00:00:00|3744028405|          1|\n",
      "|0001a1c4-83dc-4f4...|    ILLICIT 117|                23|                 28|c7805740-f206-11e...|780cc101-005c-4fc...|2016-01-06 00:00:00|3400287617|          1|\n",
      "|0001a1c4-83dc-4f4...|    ILLICIT 117|                23|                 28|c7805740-f206-11e...|780cc101-005c-4fc...|2016-01-06 00:00:00|3676723563|          1|\n",
      "|0001a1c4-83dc-4f4...|    ILLICIT 117|                23|                 28|c7805740-f206-11e...|780cc101-005c-4fc...|2016-01-06 00:00:00|2105198095|          2|\n",
      "|0001a1c4-83dc-4f4...|    ILLICIT 117|                23|                 28|c7805740-f206-11e...|780cc101-005c-4fc...|2016-01-06 00:00:00| 250435527|          1|\n",
      "|0001a1c4-83dc-4f4...|    ILLICIT 117|                23|                 28|c7805740-f206-11e...|780cc101-005c-4fc...|2016-01-06 00:00:00|3565443938|          4|\n",
      "|0001a1c4-83dc-4f4...|    ILLICIT 117|                23|                 28|c7805740-f206-11e...|780cc101-005c-4fc...|2016-01-06 00:00:00|3261908037|          8|\n",
      "|0001a1c4-83dc-4f4...|    ILLICIT 117|                23|                 28|c7805740-f206-11e...|780cc101-005c-4fc...|2016-01-06 00:00:00| 824733727|          1|\n",
      "|0001a1c4-83dc-4f4...|    ILLICIT 117|                23|                 28|c7805740-f206-11e...|780cc101-005c-4fc...|2016-01-06 00:00:00| 298813630|          2|\n",
      "|0001a1c4-83dc-4f4...|    ILLICIT 117|                23|                 28|c7805740-f206-11e...|780cc101-005c-4fc...|2016-01-06 00:00:00|1351381581|          3|\n",
      "|0001a1c4-83dc-4f4...|    ILLICIT 117|                23|                 28|c7805740-f206-11e...|780cc101-005c-4fc...|2016-01-06 00:00:00|2916014239|          5|\n",
      "|0001a1c4-83dc-4f4...|    ILLICIT 117|                23|                 28|c7805740-f206-11e...|780cc101-005c-4fc...|2016-01-06 00:00:00|1326375333|          1|\n",
      "|0001a1c4-83dc-4f4...|    ILLICIT 117|                23|                 28|c7805740-f206-11e...|780cc101-005c-4fc...|2016-01-06 00:00:00|3744028405|          1|\n",
      "+--------------------+---------------+------------------+-------------------+--------------------+--------------------+-------------------+----------+-----------+\n",
      "only showing top 20 rows\n",
      "\n"
     ]
    },
    {
     "name": "stderr",
     "output_type": "stream",
     "text": [
      "                                                                                \r"
     ]
    }
   ],
   "source": [
    "# Bucket join match_details, matches, and medal_matches_players on match_id with 16 buckets\n",
    "\n",
    "bucketed_joined_df = spark.sql(\"\"\"\n",
    "SELECT mdb.match_id, mdb.player_gamertag, mdb.player_total_kills, mdb.player_total_deaths,\n",
    "       md.mapid, md.playlist_id, md.completion_date, mmpb.medal_id, mmpb.count AS medal_count\n",
    "FROM bootcamp.match_details mdb\n",
    "JOIN bootcamp.matches md \n",
    "    ON mdb.match_id = md.match_id\n",
    "JOIN bootcamp.medals_matches_players mmpb\n",
    "    ON mdb.match_id = mmpb.match_id AND mdb.player_gamertag = mmpb.player_gamertag\n",
    "\"\"\")\n",
    "\n",
    "bucketed_joined_df.show()"
   ]
  },
  {
   "cell_type": "code",
   "execution_count": 50,
   "id": "1e348961-bc9f-4343-b69f-c50eb923c67d",
   "metadata": {},
   "outputs": [
    {
     "name": "stderr",
     "output_type": "stream",
     "text": [
      "[Stage 95:===================================================>     (9 + 1) / 10]\r"
     ]
    },
    {
     "name": "stdout",
     "output_type": "stream",
     "text": [
      "+--------------------+---------------+------------------+-------------------+--------------------+--------------------+-------------------+----------+-----------+--------+-------------------+\n",
      "|            match_id|player_gamertag|player_total_kills|player_total_deaths|               mapid|         playlist_id|    completion_date|  medal_id|medal_count|map_name|         medal_name|\n",
      "+--------------------+---------------+------------------+-------------------+--------------------+--------------------+-------------------+----------+-----------+--------+-------------------+\n",
      "|0001a1c4-83dc-4f4...|    ILLICIT 117|                23|                 28|c7805740-f206-11e...|780cc101-005c-4fc...|2016-01-06 00:00:00|3565443938|          4| Glacier|Stronghold Captured|\n",
      "|0001a1c4-83dc-4f4...|    ILLICIT 117|                23|                 28|c7805740-f206-11e...|780cc101-005c-4fc...|2016-01-06 00:00:00|3565443938|          4| Glacier|Stronghold Captured|\n",
      "|0001a1c4-83dc-4f4...|    ILLICIT 117|                23|                 28|c7805740-f206-11e...|780cc101-005c-4fc...|2016-01-06 00:00:00|3565443938|          4| Glacier|Stronghold Captured|\n",
      "|0001a1c4-83dc-4f4...|    ILLICIT 117|                23|                 28|c7805740-f206-11e...|780cc101-005c-4fc...|2016-01-06 00:00:00|3565443938|          4| Glacier|Stronghold Captured|\n",
      "|0001a1c4-83dc-4f4...|    ILLICIT 117|                23|                 28|c7805740-f206-11e...|780cc101-005c-4fc...|2016-01-06 00:00:00|3565443938|          4| Glacier|Stronghold Captured|\n",
      "|0001a1c4-83dc-4f4...|    ILLICIT 117|                23|                 28|c7805740-f206-11e...|780cc101-005c-4fc...|2016-01-06 00:00:00|3565443938|          4| Glacier|Stronghold Captured|\n",
      "|0001a1c4-83dc-4f4...|    ILLICIT 117|                23|                 28|c7805740-f206-11e...|780cc101-005c-4fc...|2016-01-06 00:00:00|3565443938|          4| Glacier|Stronghold Captured|\n",
      "|0001a1c4-83dc-4f4...|    ILLICIT 117|                23|                 28|c7805740-f206-11e...|780cc101-005c-4fc...|2016-01-06 00:00:00|3565443938|          4| Glacier|Stronghold Captured|\n",
      "|0001a1c4-83dc-4f4...|    ILLICIT 117|                23|                 28|c7805740-f206-11e...|780cc101-005c-4fc...|2016-01-06 00:00:00|3565443938|          4| Glacier|Stronghold Captured|\n",
      "|0001a1c4-83dc-4f4...|    ILLICIT 117|                23|                 28|c7805740-f206-11e...|780cc101-005c-4fc...|2016-01-06 00:00:00|3565443938|          4| Glacier|Stronghold Captured|\n",
      "|0001a1c4-83dc-4f4...|    ILLICIT 117|                23|                 28|c7805740-f206-11e...|780cc101-005c-4fc...|2016-01-06 00:00:00|3565443938|          4| Glacier|Stronghold Captured|\n",
      "|0001a1c4-83dc-4f4...|    ILLICIT 117|                23|                 28|c7805740-f206-11e...|780cc101-005c-4fc...|2016-01-06 00:00:00|3565443938|          4| Glacier|Stronghold Captured|\n",
      "|0001a1c4-83dc-4f4...|    ILLICIT 117|                23|                 28|c7805740-f206-11e...|780cc101-005c-4fc...|2016-01-06 00:00:00|3565443938|          4| Glacier|Stronghold Captured|\n",
      "|0001a1c4-83dc-4f4...|    ILLICIT 117|                23|                 28|c7805740-f206-11e...|780cc101-005c-4fc...|2016-01-06 00:00:00|3565443938|          4| Glacier|Stronghold Captured|\n",
      "|0001a1c4-83dc-4f4...|    ILLICIT 117|                23|                 28|c7805740-f206-11e...|780cc101-005c-4fc...|2016-01-06 00:00:00|3565443938|          4| Glacier|Stronghold Captured|\n",
      "|0001a1c4-83dc-4f4...|    ILLICIT 117|                23|                 28|c7805740-f206-11e...|780cc101-005c-4fc...|2016-01-06 00:00:00|3565443938|          4| Glacier|Stronghold Captured|\n",
      "|0001a1c4-83dc-4f4...|    ILLICIT 117|                23|                 28|c7805740-f206-11e...|780cc101-005c-4fc...|2016-01-06 00:00:00|3565443938|          4| Glacier|Stronghold Captured|\n",
      "|0001a1c4-83dc-4f4...|    ILLICIT 117|                23|                 28|c7805740-f206-11e...|780cc101-005c-4fc...|2016-01-06 00:00:00|3565443938|          4| Glacier|Stronghold Captured|\n",
      "|0001a1c4-83dc-4f4...|    ILLICIT 117|                23|                 28|c7805740-f206-11e...|780cc101-005c-4fc...|2016-01-06 00:00:00|3565443938|          4| Glacier|Stronghold Captured|\n",
      "|0001a1c4-83dc-4f4...|    ILLICIT 117|                23|                 28|c7805740-f206-11e...|780cc101-005c-4fc...|2016-01-06 00:00:00|3565443938|          4| Glacier|Stronghold Captured|\n",
      "+--------------------+---------------+------------------+-------------------+--------------------+--------------------+-------------------+----------+-----------+--------+-------------------+\n",
      "only showing top 20 rows\n",
      "\n"
     ]
    },
    {
     "name": "stderr",
     "output_type": "stream",
     "text": [
      "                                                                                \r"
     ]
    }
   ],
   "source": [
    "# Turn off the default broadcast join behavior\n",
    "spark.conf.set(\"spark.sql.autoBroadcastJoinThreshold\", \"-1\")\n",
    "\n",
    "# Create a temporary view for the main DataFrame\n",
    "bucketed_joined_df.createOrReplaceTempView(\"bucketed_joined_df\")\n",
    "\n",
    "# Broadcast the maps and medals DataFrames\n",
    "maps_broadcasted = broadcast(spark.table(\"bootcamp.maps\"))\n",
    "medals_broadcasted = broadcast(spark.table(\"bootcamp.medals\"))\n",
    "\n",
    "# Create temporary views for the broadcasted DataFrames\n",
    "maps_broadcasted.createOrReplaceTempView(\"maps_broadcasted\")\n",
    "medals_broadcasted.createOrReplaceTempView(\"medals_broadcasted\")\n",
    "\n",
    "# Use SQL to join the DataFrames\n",
    "final_joined_df = spark.sql(\"\"\"\n",
    "    SELECT bj.*, m.name AS map_name, ms.name AS medal_name\n",
    "    FROM bucketed_joined_df bj\n",
    "    LEFT JOIN maps_broadcasted m \n",
    "        ON bj.mapid = m.mapid\n",
    "    LEFT JOIN medals_broadcasted ms\n",
    "        ON bj.medal_id = ms.medal_id\n",
    "\"\"\")\n",
    "\n",
    "# Show the result\n",
    "final_joined_df.show()"
   ]
  },
  {
   "cell_type": "code",
   "execution_count": 52,
   "id": "5e2bfbe0-7518-4610-b48e-dd9dee27b911",
   "metadata": {},
   "outputs": [
    {
     "name": "stdout",
     "output_type": "stream",
     "text": [
      "most kills per game\n"
     ]
    },
    {
     "name": "stderr",
     "output_type": "stream",
     "text": [
      "[Stage 128:===================================================>   (16 + 1) / 17]\r"
     ]
    },
    {
     "name": "stdout",
     "output_type": "stream",
     "text": [
      "+---------------+---------+\n",
      "|player_gamertag|avg_kills|\n",
      "+---------------+---------+\n",
      "|   gimpinator14|    109.0|\n",
      "+---------------+---------+\n",
      "only showing top 1 row\n",
      "\n"
     ]
    },
    {
     "name": "stderr",
     "output_type": "stream",
     "text": [
      "                                                                                \r"
     ]
    }
   ],
   "source": [
    "# Group by player_gamertag and calculate the average kills\n",
    "player_avg_kills_df = bucketed_joined_df \\\n",
    "    .groupBy(\"player_gamertag\") \\\n",
    "    .agg(F.avg(\"player_total_kills\").alias(\"avg_kills\")) \\\n",
    "    .orderBy(F.col(\"avg_kills\").desc())\n",
    "\n",
    "# Show the top result\n",
    "print(\"most kills per game\")\n",
    "player_avg_kills_df.show(1)"
   ]
  },
  {
   "cell_type": "code",
   "execution_count": 53,
   "id": "1386b4d6-525b-47a6-b2af-615cce42186b",
   "metadata": {},
   "outputs": [
    {
     "name": "stdout",
     "output_type": "stream",
     "text": [
      "most played playlist\n"
     ]
    },
    {
     "name": "stderr",
     "output_type": "stream",
     "text": [
      "[Stage 140:======================================>                  (6 + 3) / 9]\r"
     ]
    },
    {
     "name": "stdout",
     "output_type": "stream",
     "text": [
      "+--------------------+--------------+\n",
      "|         playlist_id|playlist_count|\n",
      "+--------------------+--------------+\n",
      "|f72e0ef0-7c4a-430...|          7640|\n",
      "+--------------------+--------------+\n",
      "only showing top 1 row\n",
      "\n"
     ]
    },
    {
     "name": "stderr",
     "output_type": "stream",
     "text": [
      "                                                                                \r"
     ]
    }
   ],
   "source": [
    "# Group by playlist_id and calculate the count of distinct match_id\n",
    "most_played_playlist_df = bucketed_joined_df \\\n",
    "    .groupBy(\"playlist_id\") \\\n",
    "    .agg(F.countDistinct(\"match_id\").alias(\"playlist_count\")) \\\n",
    "    .orderBy(F.col(\"playlist_count\").desc())\n",
    "\n",
    "# Show the top result\n",
    "print(\"most played playlist\")\n",
    "most_played_playlist_df.show(1)"
   ]
  },
  {
   "cell_type": "code",
   "execution_count": 54,
   "id": "aab52c83-99cd-4a74-ac2e-8ec77fd24a8b",
   "metadata": {},
   "outputs": [
    {
     "name": "stdout",
     "output_type": "stream",
     "text": [
      "most played map\n"
     ]
    },
    {
     "name": "stderr",
     "output_type": "stream",
     "text": [
      "[Stage 170:===================================================>   (16 + 1) / 17]\r"
     ]
    },
    {
     "name": "stdout",
     "output_type": "stream",
     "text": [
      "+--------------------+--------------+------------+\n",
      "|               mapid|      map_name|games_played|\n",
      "+--------------------+--------------+------------+\n",
      "|c7edbf0f-f206-11e...|Breakout Arena|        7032|\n",
      "+--------------------+--------------+------------+\n",
      "only showing top 1 row\n",
      "\n"
     ]
    },
    {
     "name": "stderr",
     "output_type": "stream",
     "text": [
      "                                                                                \r"
     ]
    }
   ],
   "source": [
    "# Create a temporary view for final_joined_df\n",
    "final_joined_df.createOrReplaceTempView(\"final_joined_df\")\n",
    "\n",
    "# Group by mapid and map_name, count distinct match_id, and order by games_played in descending order\n",
    "most_played_map_df = final_joined_df \\\n",
    "    .groupBy(\"mapid\", \"map_name\") \\\n",
    "    .agg(F.countDistinct(\"match_id\").alias(\"games_played\")) \\\n",
    "    .orderBy(F.col(\"games_played\").desc())\n",
    "\n",
    "# Show the top result\n",
    "print(\"most played map\")\n",
    "most_played_map_df.show(1)"
   ]
  },
  {
   "cell_type": "code",
   "execution_count": 56,
   "id": "6a0aa3a6-cc55-4c59-a7eb-b058c81c5709",
   "metadata": {},
   "outputs": [
    {
     "name": "stdout",
     "output_type": "stream",
     "text": [
      "most killing spree_map\n"
     ]
    },
    {
     "name": "stderr",
     "output_type": "stream",
     "text": [
      "[Stage 215:===================================================>   (16 + 1) / 17]\r"
     ]
    },
    {
     "name": "stdout",
     "output_type": "stream",
     "text": [
      "+--------------------+--------------+-------------------+\n",
      "|               mapid|      map_name|killing_spree_count|\n",
      "+--------------------+--------------+-------------------+\n",
      "|c7edbf0f-f206-11e...|Breakout Arena|               6738|\n",
      "+--------------------+--------------+-------------------+\n",
      "only showing top 1 row\n",
      "\n"
     ]
    },
    {
     "name": "stderr",
     "output_type": "stream",
     "text": [
      "                                                                                \r"
     ]
    }
   ],
   "source": [
    "# Filter by \"Killing Spree\" and then group by mapid and map_name, summing the medal_count\n",
    "most_killing_spree_map_df = final_joined_df \\\n",
    "    .filter(F.col(\"medal_name\") == \"Killing Spree\") \\\n",
    "    .distinct() \\\n",
    "    .groupBy(\"mapid\", \"map_name\") \\\n",
    "    .agg(F.sum(\"medal_count\").alias(\"killing_spree_count\")) \\\n",
    "    .orderBy(F.col(\"killing_spree_count\").desc())\n",
    "\n",
    "# Show the top result\n",
    "print(\"most killing spree_map\")\n",
    "most_killing_spree_map_df.show(1)"
   ]
  },
  {
   "cell_type": "code",
   "execution_count": 61,
   "id": "077aa58c-98bb-45b5-8291-0741ed1fcb35",
   "metadata": {},
   "outputs": [
    {
     "name": "stderr",
     "output_type": "stream",
     "text": [
      "[Stage 260:>                                                        (0 + 1) / 1]\r"
     ]
    },
    {
     "name": "stdout",
     "output_type": "stream",
     "text": [
      "+--------------------+---------------+------------------+-------------------+--------------------+--------------------+-------------------+----------+-----------+--------+-------------------+\n",
      "|            match_id|player_gamertag|player_total_kills|player_total_deaths|               mapid|         playlist_id|    completion_date|  medal_id|medal_count|map_name|         medal_name|\n",
      "+--------------------+---------------+------------------+-------------------+--------------------+--------------------+-------------------+----------+-----------+--------+-------------------+\n",
      "|006634bf-a2ef-45c...|AN EVIL VILLAIN|                 3|                  6|c74c9d0f-f206-11e...|0bcf2be1-3168-4e4...|2015-11-26 00:00:00|3565443938|          1|  Alpine|Stronghold Captured|\n",
      "|006634bf-a2ef-45c...|AN EVIL VILLAIN|                 3|                  6|c74c9d0f-f206-11e...|0bcf2be1-3168-4e4...|2015-11-26 00:00:00|3565443938|          1|  Alpine|Stronghold Captured|\n",
      "|006634bf-a2ef-45c...|AN EVIL VILLAIN|                 3|                  6|c74c9d0f-f206-11e...|0bcf2be1-3168-4e4...|2015-11-26 00:00:00|3565443938|          1|  Alpine|Stronghold Captured|\n",
      "|006634bf-a2ef-45c...|AN EVIL VILLAIN|                 3|                  6|c74c9d0f-f206-11e...|0bcf2be1-3168-4e4...|2015-11-26 00:00:00|3565443938|          1|  Alpine|Stronghold Captured|\n",
      "|006634bf-a2ef-45c...|AN EVIL VILLAIN|                 3|                  6|c74c9d0f-f206-11e...|0bcf2be1-3168-4e4...|2015-11-26 00:00:00|3565443938|          1|  Alpine|Stronghold Captured|\n",
      "|006634bf-a2ef-45c...|AN EVIL VILLAIN|                 3|                  6|c74c9d0f-f206-11e...|0bcf2be1-3168-4e4...|2015-11-26 00:00:00|3565443938|          1|  Alpine|Stronghold Captured|\n",
      "|006634bf-a2ef-45c...|AN EVIL VILLAIN|                 3|                  6|c74c9d0f-f206-11e...|0bcf2be1-3168-4e4...|2015-11-26 00:00:00|3565443938|          1|  Alpine|Stronghold Captured|\n",
      "|006634bf-a2ef-45c...|AN EVIL VILLAIN|                 3|                  6|c74c9d0f-f206-11e...|0bcf2be1-3168-4e4...|2015-11-26 00:00:00|3565443938|          1|  Alpine|Stronghold Captured|\n",
      "|006634bf-a2ef-45c...|AN EVIL VILLAIN|                 3|                  6|c74c9d0f-f206-11e...|0bcf2be1-3168-4e4...|2015-11-26 00:00:00|3565443938|          1|  Alpine|Stronghold Captured|\n",
      "|006634bf-a2ef-45c...|AN EVIL VILLAIN|                 3|                  6|c74c9d0f-f206-11e...|0bcf2be1-3168-4e4...|2015-11-26 00:00:00|3565443938|          1|  Alpine|Stronghold Captured|\n",
      "|006634bf-a2ef-45c...|AN EVIL VILLAIN|                 3|                  6|c74c9d0f-f206-11e...|0bcf2be1-3168-4e4...|2015-11-26 00:00:00|3565443938|          1|  Alpine|Stronghold Captured|\n",
      "|006634bf-a2ef-45c...|AN EVIL VILLAIN|                 3|                  6|c74c9d0f-f206-11e...|0bcf2be1-3168-4e4...|2015-11-26 00:00:00|3565443938|          1|  Alpine|Stronghold Captured|\n",
      "|006634bf-a2ef-45c...|AN EVIL VILLAIN|                 3|                  6|c74c9d0f-f206-11e...|0bcf2be1-3168-4e4...|2015-11-26 00:00:00|3565443938|          1|  Alpine|Stronghold Captured|\n",
      "|006634bf-a2ef-45c...|AN EVIL VILLAIN|                 3|                  6|c74c9d0f-f206-11e...|0bcf2be1-3168-4e4...|2015-11-26 00:00:00|3565443938|          1|  Alpine|Stronghold Captured|\n",
      "|006634bf-a2ef-45c...|AN EVIL VILLAIN|                 3|                  6|c74c9d0f-f206-11e...|0bcf2be1-3168-4e4...|2015-11-26 00:00:00|3565443938|          1|  Alpine|Stronghold Captured|\n",
      "|006634bf-a2ef-45c...|AN EVIL VILLAIN|                 3|                  6|c74c9d0f-f206-11e...|0bcf2be1-3168-4e4...|2015-11-26 00:00:00|3565443938|          1|  Alpine|Stronghold Captured|\n",
      "|006634bf-a2ef-45c...|AN EVIL VILLAIN|                 3|                  6|c74c9d0f-f206-11e...|0bcf2be1-3168-4e4...|2015-11-26 00:00:00|3565443938|          1|  Alpine|Stronghold Captured|\n",
      "|006634bf-a2ef-45c...|AN EVIL VILLAIN|                 3|                  6|c74c9d0f-f206-11e...|0bcf2be1-3168-4e4...|2015-11-26 00:00:00|3565443938|          1|  Alpine|Stronghold Captured|\n",
      "|006634bf-a2ef-45c...|AN EVIL VILLAIN|                 3|                  6|c74c9d0f-f206-11e...|0bcf2be1-3168-4e4...|2015-11-26 00:00:00|3565443938|          1|  Alpine|Stronghold Captured|\n",
      "|006634bf-a2ef-45c...|AN EVIL VILLAIN|                 3|                  6|c74c9d0f-f206-11e...|0bcf2be1-3168-4e4...|2015-11-26 00:00:00|3565443938|          1|  Alpine|Stronghold Captured|\n",
      "+--------------------+---------------+------------------+-------------------+--------------------+--------------------+-------------------+----------+-----------+--------+-------------------+\n",
      "only showing top 20 rows\n",
      "\n"
     ]
    },
    {
     "name": "stderr",
     "output_type": "stream",
     "text": [
      "                                                                                \r"
     ]
    }
   ],
   "source": [
    "# Sorting within partitions based on low cardinality columns\n",
    "sorted_df = final_joined_df \\\n",
    "    .sortWithinPartitions(\"mapid\", \"playlist_id\")\n",
    "\n",
    "# Show the result\n",
    "sorted_df.show()"
   ]
  }
 ],
 "metadata": {
  "kernelspec": {
   "display_name": "Python 3 (ipykernel)",
   "language": "python",
   "name": "python3"
  },
  "language_info": {
   "codemirror_mode": {
    "name": "ipython",
    "version": 3
   },
   "file_extension": ".py",
   "mimetype": "text/x-python",
   "name": "python",
   "nbconvert_exporter": "python",
   "pygments_lexer": "ipython3",
   "version": "3.9.18"
  }
 },
 "nbformat": 4,
 "nbformat_minor": 5
}
